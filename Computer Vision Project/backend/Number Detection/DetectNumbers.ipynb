{
 "cells": [
  {
   "cell_type": "code",
   "execution_count": null,
   "id": "951be565-ab2b-4d77-a909-983c4abe77b5",
   "metadata": {},
   "outputs": [],
   "source": []
  },
  {
   "cell_type": "code",
   "execution_count": null,
   "id": "573f3ad5-ffd5-4f29-a67b-d08d5dec23ac",
   "metadata": {},
   "outputs": [],
   "source": []
  },
  {
   "cell_type": "code",
   "execution_count": null,
   "id": "c1f3cf82-3c8b-460c-a2ab-c4210abe4247",
   "metadata": {},
   "outputs": [],
   "source": []
  },
  {
   "cell_type": "code",
   "execution_count": null,
   "id": "17eff821-8af9-4483-a72f-d746609e3178",
   "metadata": {},
   "outputs": [],
   "source": []
  },
  {
   "cell_type": "code",
   "execution_count": null,
   "id": "1bc82959-b3ef-46cf-90f3-d20150bcbfbe",
   "metadata": {},
   "outputs": [],
   "source": [
    "import cv2\n",
    "import time\n",
    "import pyttsx3\n",
    "import threading\n",
    "import queue  # Queue to handle speech requests sequentially\n",
    "import HandTrackingModule as htm\n",
    "\n",
    "# Initialize pyttsx3 engine\n",
    "engine = pyttsx3.init()\n",
    "engine.setProperty('rate', 150)\n",
    "\n",
    "# Queue for speech requests\n",
    "speech_queue = queue.Queue()\n",
    "\n",
    "# Mapping numbers to words\n",
    "number_words = [\"Zero\", \"One\", \"Two\", \"Three\", \"Four\", \"Five\", \"Six\", \"Seven\", \"Eight\", \"Nine\", \"Ten\"]\n",
    "\n",
    "# Webcam setup\n",
    "wCam, hCam = 640, 480\n",
    "cap = cv2.VideoCapture(0)\n",
    "if not cap.isOpened():\n",
    "    print(\"Error: Webcam not detected.\")\n",
    "    exit()\n",
    "cap.set(3, wCam)\n",
    "cap.set(4, hCam)\n",
    "\n",
    "pTime = 0\n",
    "detector = htm.handDetector(detectionCon=0.75)\n",
    "prevFingers = -1\n",
    "\n",
    "\n",
    "def speech_worker():\n",
    "    while True:\n",
    "        text = speech_queue.get() \n",
    "        if text is None:\n",
    "            break \n",
    "        engine.say(text)\n",
    "        engine.runAndWait()\n",
    "        speech_queue.task_done()  \n",
    "\n",
    "\n",
    "speech_thread = threading.Thread(target=speech_worker, daemon=True)\n",
    "speech_thread.start()\n",
    "\n",
    "while True:\n",
    "    success, img = cap.read()\n",
    "    if not success:\n",
    "        break\n",
    "\n",
    "    img = cv2.flip(img, 1)\n",
    "    img = detector.findHands(img)\n",
    "    lmList, bbox = detector.findPosition(img, draw=False)\n",
    "\n",
    "    totalFingers = 0\n",
    "    if lmList:\n",
    "        fingersUp = detector.fingersUp()\n",
    "        totalFingers = fingersUp.count(1)\n",
    "\n",
    "       \n",
    "        if bbox:\n",
    "            cv2.putText(img, \"Detected Hand\", (bbox[0], bbox[1] - 20), \n",
    "                        cv2.FONT_HERSHEY_SIMPLEX, 1, (0, 255, 0), 2)\n",
    "\n",
    "        \n",
    "        cv2.putText(img, number_words[totalFingers], (45, 375), \n",
    "                    cv2.FONT_HERSHEY_PLAIN, 5, (255, 0, 0), 5)\n",
    "\n",
    "       \n",
    "        if totalFingers != prevFingers:\n",
    "            prevFingers = totalFingers\n",
    "            speech_queue.put(number_words[totalFingers]) \n",
    "\n",
    "   \n",
    "    cTime = time.time()\n",
    "    fps = 1 / (cTime - pTime)\n",
    "    pTime = cTime\n",
    "   \n",
    "\n",
    "   \n",
    "    cv2.imshow(\"Webcam Feed\", img)\n",
    "\n",
    "    if cv2.waitKey(1) & 0xFF == ord('q'):  \n",
    "        break\n",
    "\n",
    "\n",
    "speech_queue.put(None) \n",
    "speech_thread.join()\n",
    "\n",
    "cap.release()\n",
    "cv2.destroyAllWindows()\n"
   ]
  },
  {
   "cell_type": "code",
   "execution_count": null,
   "id": "3bbe9427-5fee-41c2-a552-1661d9a5f14f",
   "metadata": {},
   "outputs": [],
   "source": []
  },
  {
   "cell_type": "code",
   "execution_count": null,
   "id": "58c8396b-187c-4814-bcb8-2d17cd4d5113",
   "metadata": {},
   "outputs": [],
   "source": []
  },
  {
   "cell_type": "code",
   "execution_count": null,
   "id": "83832e55-a082-4efa-923a-ad560a48a746",
   "metadata": {},
   "outputs": [],
   "source": []
  },
  {
   "cell_type": "code",
   "execution_count": null,
   "id": "e07de010-d6a3-46a9-9f45-d0a614d856d2",
   "metadata": {},
   "outputs": [],
   "source": []
  },
  {
   "cell_type": "code",
   "execution_count": null,
   "id": "e87b90fd-eafb-442c-adea-8f8703010d54",
   "metadata": {},
   "outputs": [],
   "source": []
  },
  {
   "cell_type": "code",
   "execution_count": null,
   "id": "6ac9da25-738d-4ccc-b3bf-fce94f1e7080",
   "metadata": {},
   "outputs": [],
   "source": []
  },
  {
   "cell_type": "code",
   "execution_count": null,
   "id": "73ae8243-9b32-479f-9f3a-255041585403",
   "metadata": {},
   "outputs": [],
   "source": []
  },
  {
   "cell_type": "code",
   "execution_count": null,
   "id": "9d90d864-a1ce-45bc-9070-1d7c68fc98ed",
   "metadata": {},
   "outputs": [],
   "source": []
  },
  {
   "cell_type": "code",
   "execution_count": null,
   "id": "e0ef26f0-263c-45fe-9066-43b114599b56",
   "metadata": {},
   "outputs": [],
   "source": []
  },
  {
   "cell_type": "code",
   "execution_count": null,
   "id": "dc08a860-983e-4373-8ebb-0d41f088c01c",
   "metadata": {},
   "outputs": [],
   "source": []
  },
  {
   "cell_type": "code",
   "execution_count": null,
   "id": "2a546de4-4567-4579-bd5e-2c0d76dfa218",
   "metadata": {},
   "outputs": [],
   "source": []
  },
  {
   "cell_type": "code",
   "execution_count": null,
   "id": "31a9d365-60ee-4ef7-b59e-1efd70e29b08",
   "metadata": {},
   "outputs": [],
   "source": []
  },
  {
   "cell_type": "code",
   "execution_count": null,
   "id": "3b15b742-c588-4b80-bd01-4dbb1c607910",
   "metadata": {},
   "outputs": [],
   "source": []
  },
  {
   "cell_type": "code",
   "execution_count": null,
   "id": "addfbab4-1b2c-459b-9f35-85a1f1f90b63",
   "metadata": {},
   "outputs": [],
   "source": []
  },
  {
   "cell_type": "code",
   "execution_count": null,
   "id": "d7657edb-d124-4c9c-abd1-5fb419c3fc5a",
   "metadata": {},
   "outputs": [],
   "source": []
  },
  {
   "cell_type": "code",
   "execution_count": null,
   "id": "2194c560-e384-45f2-a962-fe3d84e6de29",
   "metadata": {},
   "outputs": [],
   "source": []
  },
  {
   "cell_type": "code",
   "execution_count": null,
   "id": "fe96c262-9e5b-4b98-8ffa-80f10da871a3",
   "metadata": {},
   "outputs": [],
   "source": []
  },
  {
   "cell_type": "code",
   "execution_count": null,
   "id": "ca3cd314-c645-4238-a641-654c06e33b07",
   "metadata": {},
   "outputs": [],
   "source": []
  },
  {
   "cell_type": "code",
   "execution_count": null,
   "id": "572f3685-3211-4ea6-a573-390c35a4f8b0",
   "metadata": {},
   "outputs": [],
   "source": []
  },
  {
   "cell_type": "code",
   "execution_count": null,
   "id": "303947b8-98db-48bf-96a8-ec41e52ff096",
   "metadata": {},
   "outputs": [],
   "source": []
  },
  {
   "cell_type": "code",
   "execution_count": null,
   "id": "d0c53a5d-0960-434c-b058-2370e3493879",
   "metadata": {},
   "outputs": [],
   "source": []
  },
  {
   "cell_type": "code",
   "execution_count": null,
   "id": "c5710efb-0f00-4ce7-83d9-9b6bda240432",
   "metadata": {},
   "outputs": [],
   "source": []
  },
  {
   "cell_type": "code",
   "execution_count": null,
   "id": "579aba60-bbfb-4d0b-8076-e13cfe1d1c4b",
   "metadata": {},
   "outputs": [],
   "source": []
  },
  {
   "cell_type": "code",
   "execution_count": null,
   "id": "c3d67610-8f2b-48ec-b097-928eb5a43eb4",
   "metadata": {},
   "outputs": [],
   "source": []
  },
  {
   "cell_type": "code",
   "execution_count": null,
   "id": "e28acb60-f70b-4e2c-88ee-75fd0cb749db",
   "metadata": {},
   "outputs": [],
   "source": []
  },
  {
   "cell_type": "code",
   "execution_count": null,
   "id": "a1c3e8db-02b6-4fc2-a0da-8eca14ab7462",
   "metadata": {},
   "outputs": [],
   "source": []
  },
  {
   "cell_type": "code",
   "execution_count": null,
   "id": "8e523055-9064-4809-919f-c8f8956e412a",
   "metadata": {},
   "outputs": [],
   "source": []
  },
  {
   "cell_type": "code",
   "execution_count": null,
   "id": "a968a43b-d9c2-4ec5-a3b5-8d4d6d3d5bab",
   "metadata": {},
   "outputs": [],
   "source": []
  },
  {
   "cell_type": "code",
   "execution_count": null,
   "id": "ec8e566a-39a9-48dc-9fe7-b078a7547570",
   "metadata": {},
   "outputs": [],
   "source": []
  },
  {
   "cell_type": "code",
   "execution_count": null,
   "id": "a48fe3db-eb48-4bce-b03b-785b82290317",
   "metadata": {},
   "outputs": [],
   "source": []
  },
  {
   "cell_type": "code",
   "execution_count": null,
   "id": "2b238072-434e-4bf7-8cab-72804024569d",
   "metadata": {},
   "outputs": [],
   "source": []
  },
  {
   "cell_type": "code",
   "execution_count": null,
   "id": "78d8cb94-187a-4a67-b7b0-bb87450a095a",
   "metadata": {},
   "outputs": [],
   "source": []
  },
  {
   "cell_type": "code",
   "execution_count": null,
   "id": "61998712-fe74-4189-9ad9-6f58c1c899f2",
   "metadata": {},
   "outputs": [],
   "source": []
  },
  {
   "cell_type": "code",
   "execution_count": null,
   "id": "1bd4950d-eb08-47b3-8de2-243d6bbe148c",
   "metadata": {},
   "outputs": [],
   "source": []
  },
  {
   "cell_type": "code",
   "execution_count": null,
   "id": "57b25e42-de53-4f88-a7c7-80b161613a11",
   "metadata": {},
   "outputs": [],
   "source": []
  },
  {
   "cell_type": "code",
   "execution_count": null,
   "id": "c5f31376-df88-46bc-b78b-67bad96fb667",
   "metadata": {},
   "outputs": [],
   "source": []
  },
  {
   "cell_type": "code",
   "execution_count": null,
   "id": "b5922a59-b4a1-4899-9e7f-d2880417c882",
   "metadata": {},
   "outputs": [],
   "source": []
  },
  {
   "cell_type": "code",
   "execution_count": null,
   "id": "fdbdb59b-0f3f-4a19-87c0-6cdd5c8dc8a4",
   "metadata": {},
   "outputs": [],
   "source": []
  },
  {
   "cell_type": "code",
   "execution_count": null,
   "id": "25c53b29-1716-41f0-8f44-c9482e1ce01d",
   "metadata": {},
   "outputs": [],
   "source": []
  },
  {
   "cell_type": "code",
   "execution_count": null,
   "id": "42faacc8-560c-4428-8340-26a01d5e6959",
   "metadata": {},
   "outputs": [],
   "source": []
  },
  {
   "cell_type": "code",
   "execution_count": null,
   "id": "9ccb41ca-fef7-4f57-b85b-daba90f8ae11",
   "metadata": {},
   "outputs": [],
   "source": []
  },
  {
   "cell_type": "code",
   "execution_count": null,
   "id": "16e211e4-a2ca-4195-9201-dd584a907cd5",
   "metadata": {},
   "outputs": [],
   "source": [
    "\n"
   ]
  },
  {
   "cell_type": "code",
   "execution_count": null,
   "id": "f7a26bd0-d0cf-4275-b056-4efc8f52c221",
   "metadata": {},
   "outputs": [],
   "source": []
  },
  {
   "cell_type": "code",
   "execution_count": null,
   "id": "d34eb2c4-ae11-4e24-86a2-cdb45c3d8d4b",
   "metadata": {},
   "outputs": [],
   "source": []
  },
  {
   "cell_type": "code",
   "execution_count": null,
   "id": "942a68f5-8616-42aa-adb5-8e3d1c4d09c9",
   "metadata": {},
   "outputs": [],
   "source": []
  },
  {
   "cell_type": "code",
   "execution_count": null,
   "id": "012f7959-b93f-44c4-bf05-559bfcdc44d1",
   "metadata": {},
   "outputs": [],
   "source": []
  },
  {
   "cell_type": "code",
   "execution_count": null,
   "id": "0cba026f-8380-469b-9e38-68e9cfe9135b",
   "metadata": {},
   "outputs": [],
   "source": []
  },
  {
   "cell_type": "code",
   "execution_count": null,
   "id": "38f64db2-c849-4d3f-bdb8-9432c0362bbb",
   "metadata": {},
   "outputs": [],
   "source": []
  },
  {
   "cell_type": "code",
   "execution_count": null,
   "id": "6e9f3916-fa2d-4d37-a604-754a9f013659",
   "metadata": {},
   "outputs": [],
   "source": []
  }
 ],
 "metadata": {
  "kernelspec": {
   "display_name": "Python 3 (ipykernel)",
   "language": "python",
   "name": "python3"
  },
  "language_info": {
   "codemirror_mode": {
    "name": "ipython",
    "version": 3
   },
   "file_extension": ".py",
   "mimetype": "text/x-python",
   "name": "python",
   "nbconvert_exporter": "python",
   "pygments_lexer": "ipython3",
   "version": "3.12.7"
  }
 },
 "nbformat": 4,
 "nbformat_minor": 5
}
